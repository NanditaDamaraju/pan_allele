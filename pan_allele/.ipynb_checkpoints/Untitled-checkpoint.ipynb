{
 "cells": [
  {
   "cell_type": "code",
   "execution_count": 121,
   "metadata": {
    "collapsed": false
   },
   "outputs": [],
   "source": [
    "from helpers.pan_allele_data_helpers import *\n",
    "import collections\n",
    "import pandas as pd"
   ]
  },
  {
   "cell_type": "code",
   "execution_count": 122,
   "metadata": {
    "collapsed": false
   },
   "outputs": [
    {
     "data": {
      "text/plain": [
       "73"
      ]
     },
     "execution_count": 122,
     "metadata": {},
     "output_type": "execute_result"
    }
   ],
   "source": [
    "allele_groups, df = load_binding_data('files/bdata.2009.mhci.public.1.txt')\n",
    "len(allele_groups.keys())"
   ]
  },
  {
   "cell_type": "code",
   "execution_count": 123,
   "metadata": {
    "collapsed": false
   },
   "outputs": [],
   "source": [
    "pep_dict = collections.defaultdict(dict)\n",
    "df = pd.DataFrame\n",
    "for allele in allele_groups.keys():\n",
    "    for idx, peptide in enumerate(allele_groups[allele][1]):\n",
    "        try:\n",
    "            pep_dict[peptide]['val']\n",
    "            if(allele_groups[allele][2][idx] > 500):\n",
    "                pep_dict[peptide]['val'] += allele_groups[allele][2][idx]\n",
    "                pep_dict[peptide]['occ'] += 1\n",
    "                pep_dict[peptide]['allele'].append(allele)\n",
    "        except:\n",
    "            pep_dict[peptide]['val'] = allele_groups[allele][2][idx]\n",
    "            pep_dict[peptide]['occ'] = 1\n",
    "            pep_dict[peptide]['allele'] = [allele]"
   ]
  },
  {
   "cell_type": "code",
   "execution_count": 124,
   "metadata": {
    "collapsed": false
   },
   "outputs": [],
   "source": [
    "df = pd.DataFrame(pep_dict)"
   ]
  },
  {
   "cell_type": "code",
   "execution_count": 125,
   "metadata": {
    "collapsed": false
   },
   "outputs": [],
   "source": [
    "df1 = pd.DataFrame(df.values.T, columns = ('allele', 'val', 'number'))\n",
    "df1['peptides'] = df.columns\n",
    "df1['ave'] = df1.number/df1.val"
   ]
  },
  {
   "cell_type": "code",
   "execution_count": 130,
   "metadata": {
    "collapsed": false
   },
   "outputs": [
    {
     "data": {
      "text/plain": [
       "['VLTLLLLLV',\n",
       " 'EVATRFNTM',\n",
       " 'DIVKGLSGY',\n",
       " 'DTLKVGNTY',\n",
       " 'DIAEHGAYY',\n",
       " 'DIVGGLFTY',\n",
       " 'AHYEEDVNL',\n",
       " 'RVRPKKEVL',\n",
       " 'DSPATLSAY',\n",
       " 'EVFEIIRSY',\n",
       " 'FPASHMATY',\n",
       " 'AKATGRYNL',\n",
       " 'QLSLKMLSL',\n",
       " 'WTALMFAAY',\n",
       " 'YSLLNRKAI',\n",
       " 'EIAQHGAWY',\n",
       " 'YRRKLTNPA',\n",
       " 'YRYGFVANF',\n",
       " 'EVAEKDAMY',\n",
       " 'TRKIRSEEL',\n",
       " 'EFFGWAEGY',\n",
       " 'SIKFKRKLM',\n",
       " 'KHDFIDNPL',\n",
       " 'EIINNGISY',\n",
       " 'EKLKKKSAF',\n",
       " 'DTTTDISKY',\n",
       " 'IRKPKHLYV',\n",
       " 'IPRACQKSL',\n",
       " 'HPKLRPILL',\n",
       " 'NRDVSFQDL',\n",
       " 'MHYKLDEVL',\n",
       " 'YYLEKANKI',\n",
       " 'AYDHGNVIL',\n",
       " 'DHLKEKSSL',\n",
       " 'DTWHGFKNM',\n",
       " 'EIIPKIKAY',\n",
       " 'ELKRQLADL',\n",
       " 'ETIEDYLGY',\n",
       " 'ETKKTMLAL',\n",
       " 'FHRKKTDAL',\n",
       " 'TMMRHRREL',\n",
       " 'KCRVKMEKL',\n",
       " 'GVKVRVWLF',\n",
       " 'IHDFVDKTL',\n",
       " 'FRLMRTNFL',\n",
       " 'DYNFVKQLF',\n",
       " 'IAMESIVIW',\n",
       " 'IVTRIVELL',\n",
       " 'EIKDRILSY',\n",
       " 'LYDYKENRF',\n",
       " 'VSFIEFVGW',\n",
       " 'TLYCVHQRI',\n",
       " 'RIKQIINMW',\n",
       " 'EVIPMFSAL',\n",
       " 'RRIFDLIEL',\n",
       " 'HTQGYFPDW',\n",
       " 'SLYNTVATL',\n",
       " 'TVLDVGDAY',\n",
       " 'IYVLVMLVL',\n",
       " 'APGWLIWTY',\n",
       " 'RAIEAQQHL',\n",
       " 'VTSLDVINY',\n",
       " 'RMRRAEPAA',\n",
       " 'YVDRFYKTL',\n",
       " 'SFEPIPIHY',\n",
       " 'YPLTFGWCF',\n",
       " 'YPLTFGWCY',\n",
       " 'LPCVLWPVL',\n",
       " 'LLWTLVVLL',\n",
       " 'IVTDFSVIK',\n",
       " 'ALVEICTEM',\n",
       " 'AAVDLSHFL',\n",
       " 'ITLWQRPLV',\n",
       " 'LDFVRFMGV',\n",
       " 'KYCWNLLQY',\n",
       " 'RPFNNILNL',\n",
       " 'RGGRAFVTI',\n",
       " 'FSPEVIPMF',\n",
       " 'WRFDSRLAF',\n",
       " 'GLCTLVAML',\n",
       " 'AIIRILQQL',\n",
       " 'SFNCGGEFF',\n",
       " 'NPVPVGNIY',\n",
       " 'AYSSWMYSY',\n",
       " 'FPRIWLHGL',\n",
       " 'AVLLHEESM',\n",
       " 'TLLVDLLWL',\n",
       " 'KTAVQMAVF',\n",
       " 'DEVEFLGHY',\n",
       " 'SLREWLLRI',\n",
       " 'KDTWLDARM',\n",
       " 'RRGWEVLKY',\n",
       " 'QAKWRLQTL',\n",
       " 'AENLWVTVY',\n",
       " 'MHEDIISLW',\n",
       " 'VLQWASLAV',\n",
       " 'IPRRIRQGL',\n",
       " 'KEKGGLEGL',\n",
       " 'VPRRKAKII',\n",
       " 'IPQCRLTPL',\n",
       " 'RIRQGLERA',\n",
       " 'TAVPWNASW',\n",
       " 'FPVTPQVPL',\n",
       " 'RPPIFIRRL',\n",
       " 'KYKLKHIVW',\n",
       " 'PPIPVGDIY',\n",
       " 'KEHVIQNAF',\n",
       " 'RVKEKYQHL',\n",
       " 'NSSKVSQNY',\n",
       " 'EKEGKISKI',\n",
       " 'ISPRTLNAW',\n",
       " 'HIGPGRAFY',\n",
       " 'SVRDRLARL',\n",
       " 'DPNPQEVVL',\n",
       " 'YPLHEQYGM',\n",
       " 'AIFQSSMTK',\n",
       " 'ILKEPVHGV',\n",
       " 'LPCRIKQII',\n",
       " 'RRIYDLIEL',\n",
       " 'WASRELERF',\n",
       " 'NPDIVIYQY',\n",
       " 'TYSAGIVQI',\n",
       " 'QASQEVKNW',\n",
       " 'HPDIVIYQY',\n",
       " 'IVNRNRQGY',\n",
       " 'TPYDINQML',\n",
       " 'YFPDWQNYT',\n",
       " 'TYPVLEEMF',\n",
       " 'LPGPDTRHL',\n",
       " 'AVDLSHFLK',\n",
       " 'RYLKDQQLL',\n",
       " 'RVRAYTYSK',\n",
       " 'VIYQYMDDL',\n",
       " 'GLNKIVRMY',\n",
       " 'KPFNNILDL',\n",
       " 'KELYPLTSL',\n",
       " 'QPRAPIRPI',\n",
       " 'SVITQACPK',\n",
       " 'RPMTYKAAL',\n",
       " 'KQNPDIVIY',\n",
       " 'SAEPVPLQL',\n",
       " 'ELRSLYNTV',\n",
       " 'CLGGLLTMV',\n",
       " 'TYGPVFMCL',\n",
       " 'LLSAWILTA',\n",
       " 'RKAKIIRDY',\n",
       " 'EEKAFSPEV',\n",
       " 'IEDPPFNSL',\n",
       " 'PYLFWLAAI',\n",
       " 'LFLDGIDKA',\n",
       " 'VPAPAGPIV',\n",
       " 'TPQDLNTML',\n",
       " 'GHQAAMQML',\n",
       " 'KIRLRPGGK',\n",
       " 'RQGLERALL',\n",
       " 'DTVLEEMNL',\n",
       " 'RKIYDLIEL',\n",
       " 'VPGSETMCY',\n",
       " 'IEELRQHLL',\n",
       " 'GIPHPAGLK',\n",
       " 'ISKKAKGWF',\n",
       " 'LTAGFLIFL',\n",
       " 'LEKARGSTY',\n",
       " 'QLTPHTKAV',\n",
       " 'RLRAEAQVK',\n",
       " 'RLRPGGKKK',\n",
       " 'GPKVKQWPL',\n",
       " 'SPRTLNAWV',\n",
       " 'LLLIALWNL',\n",
       " 'GELDRWEKI',\n",
       " 'GPGHKARVL',\n",
       " 'HPVGEADYF',\n",
       " 'YTPGPGIRY',\n",
       " 'ERYLKDQQL',\n",
       " 'HMYISKKAK',\n",
       " 'RRRWRRLTV',\n",
       " 'AVRHFPRIW',\n",
       " 'QIIEQLIKK',\n",
       " 'TPQVPLRPM',\n",
       " 'YPGIKVRQL',\n",
       " 'YRSGIIAVV',\n",
       " 'CRAPRKKGC',\n",
       " 'EGGVGWRHW',\n",
       " 'GQGGSPTAM',\n",
       " 'VFSDGRVAC',\n",
       " 'IVLPEKDSW',\n",
       " 'ETKLGKAGY',\n",
       " 'EYRKILRQR',\n",
       " 'IRLRPGGKK',\n",
       " 'RPQKRPSCI',\n",
       " 'KETINEEAA',\n",
       " 'FRKAQIQGL',\n",
       " 'HPVHAGPIA',\n",
       " 'QIYPGIKVR',\n",
       " 'DCKTILKAL',\n",
       " 'DRFYKTLRA',\n",
       " 'TRYPLTFGW',\n",
       " 'EAVRHFPRI']"
      ]
     },
     "execution_count": 130,
     "metadata": {},
     "output_type": "execute_result"
    }
   ],
   "source": [
    "list(df1[df1.val > 25].sort('ave').peptides)"
   ]
  },
  {
   "cell_type": "code",
   "execution_count": 133,
   "metadata": {
    "collapsed": false
   },
   "outputs": [],
   "source": [
    "with open('files/bdataed','a') as f:\n",
    "    for peptide in list(df1[df1.val > 25].peptides):\n",
    "        for allele in allele_groups.keys():\n",
    "            f.write('human'+'\\t'+allele+'\\t9\\tTBD\\t'+peptide+\"\\t=\\t20000\\n\")\n"
   ]
  },
  {
   "cell_type": "code",
   "execution_count": null,
   "metadata": {
    "collapsed": true
   },
   "outputs": [],
   "source": []
  }
 ],
 "metadata": {
  "kernelspec": {
   "display_name": "Python 2",
   "language": "python",
   "name": "python2"
  },
  "language_info": {
   "codemirror_mode": {
    "name": "ipython",
    "version": 2
   },
   "file_extension": ".py",
   "mimetype": "text/x-python",
   "name": "python",
   "nbconvert_exporter": "python",
   "pygments_lexer": "ipython2",
   "version": "2.7.10"
  }
 },
 "nbformat": 4,
 "nbformat_minor": 0
}
