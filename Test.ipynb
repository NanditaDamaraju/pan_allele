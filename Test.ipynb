{
 "cells": [
  {
   "cell_type": "code",
   "execution_count": null,
   "metadata": {
    "collapsed": false
   },
   "outputs": [],
   "source": [
    "from pan_allele_data_helpers import *\n",
    "import pandas as pd\n",
    "import numpy as np\n",
    "from sklearn.metrics import roc_auc_score, accuracy_score\n",
    "log_transformed_ic50_cutoff = 1 - np.log(500)/np.log(5000)\n",
    "from convolution_model import convolution_graph, convolution_graph_reshape\n",
    "from sequence_encoding import padded_indices\n",
    "from amino_acid import amino_acid_letter_indices"
   ]
  },
  {
   "cell_type": "code",
   "execution_count": null,
   "metadata": {
    "collapsed": true
   },
   "outputs": [],
   "source": [
    "def normalize_allele_name(allele_name):\n",
    "    allele_name = allele_name.upper()\n",
    "    # old school HLA-C serotypes look like \"Cw\"\n",
    "    allele_name = allele_name.replace(\"CW\", \"C\")\n",
    "    patterns = [\n",
    "        \"HLA-\",\n",
    "        \"-\",\n",
    "        \"*\",\n",
    "        \":\"\n",
    "    ]\n",
    "    for pattern in patterns:\n",
    "        allele_name = allele_name.replace(pattern, \"\")\n",
    "    return allele_name\n",
    "allele_groups, df = load_binding_data('files/bdata.2009.mhci.public.1.txt')\n",
    "allele_sequence_data, max_allele_length = load_allele_sequence_data('files/trimmed-human-class1.fasta')\n",
    "allele_list = sorted(create_allele_list(allele_groups, allele_sequence_data))\n",
    "peptide_train, mhc_train, Y_train = get_model_data(allele_list,\n",
    "                                                            allele_sequence_data,\n",
    "                                                            allele_groups,\n",
    "                                                            dense_mhc_model=None,\n",
    "                                                            peptide_length = 9,\n",
    "                                                            mhc_length=181,\n",
    "                                                            mhc_dense = None\n",
    "                                                            )\n",
    "max_sequence_length = max_allele_length\n",
    "nb_epoch = 30"
   ]
  },
  {
   "cell_type": "code",
   "execution_count": null,
   "metadata": {
    "collapsed": false
   },
   "outputs": [],
   "source": [
    "graph = convolution_graph_reshape(maxlen_mhc = max_sequence_length, nb_epoch = nb_epoch )\n",
    "graph.fit(\n",
    "                    {'peptide':peptide_train, 'mhc':mhc_train, 'output': Y_train},\n",
    "                    batch_size=32,\n",
    "                    nb_epoch=nb_epoch,\n",
    "                    verbose = 1\n",
    "    )"
   ]
  },
  {
   "cell_type": "code",
   "execution_count": 41,
   "metadata": {
    "collapsed": false
   },
   "outputs": [
    {
     "data": {
      "text/plain": [
       "array([[ 4,  0, 18,  3, 13, 10, 10,  0, 10]])"
      ]
     },
     "execution_count": 41,
     "metadata": {},
     "output_type": "execute_result"
    }
   ],
   "source": [
    "test_allele = 'C0304' \n",
    "test_peptide = 'GAVDPLLAL'\n",
    "test_allele_seq = padded_indices([allele_sequence_data[test_allele]], \n",
    "                                      index_dict=amino_acid_letter_indices,\n",
    "                                      add_start_symbol=False, \n",
    "                                      add_end_symbol=False)\n",
    "test_peptide_seq = padded_indices([test_peptide], \n",
    "                                      index_dict=amino_acid_letter_indices,\n",
    "                                      add_start_symbol=False, \n",
    "                                      add_end_symbol=False)\n",
    "\n",
    "test_peptide_seq"
   ]
  },
  {
   "cell_type": "code",
   "execution_count": 44,
   "metadata": {
    "collapsed": false
   },
   "outputs": [],
   "source": [
    "output = graph.predict({'peptide':test_peptide_seq,'mhc':test_allele_seq})['output']"
   ]
  },
  {
   "cell_type": "code",
   "execution_count": 50,
   "metadata": {
    "collapsed": false
   },
   "outputs": [
    {
     "name": "stdout",
     "output_type": "stream",
     "text": [
      "174.981437477\n"
     ]
    }
   ],
   "source": [
    "print 5000**(1-output[0][0])"
   ]
  },
  {
   "cell_type": "code",
   "execution_count": 78,
   "metadata": {
    "collapsed": true
   },
   "outputs": [],
   "source": [
    "measures = [257.8, 1701,2309,2397,0,0,0,0,0,0,0,0,0,0]\n",
    "actual_measure = np.array([720,588,18,180,78,2220,378,30,1080,324,12,972,720,120])"
   ]
  },
  {
   "cell_type": "code",
   "execution_count": 83,
   "metadata": {
    "collapsed": false
   },
   "outputs": [
    {
     "name": "stdout",
     "output_type": "stream",
     "text": [
      "[0 0 1 1 1 0 1 1 0 1 1 0 0 1]\n",
      "[1 0 0 1 1 1 1 1 1 1 1 1 1 1]\n"
     ]
    }
   ],
   "source": [
    "actual_bool = 1 * np.less(actual_measure,500)\n",
    "measures_bool = 1* np.less(measures, 500)\n",
    "measures = [5000**(1-measure) for measure in measures]\n",
    "print actual_bool\n",
    "print measures_bool"
   ]
  },
  {
   "cell_type": "code",
   "execution_count": 85,
   "metadata": {
    "collapsed": false
   },
   "outputs": [
    {
     "data": {
      "text/plain": [
       "0.60416666666666674"
      ]
     },
     "execution_count": 85,
     "metadata": {},
     "output_type": "execute_result"
    }
   ],
   "source": [
    "roc_auc_score(actual_bool, measures)"
   ]
  },
  {
   "cell_type": "code",
   "execution_count": null,
   "metadata": {
    "collapsed": true
   },
   "outputs": [],
   "source": []
  }
 ],
 "metadata": {
  "kernelspec": {
   "display_name": "Python 2",
   "language": "python",
   "name": "python2"
  },
  "language_info": {
   "codemirror_mode": {
    "name": "ipython",
    "version": 2
   },
   "file_extension": ".py",
   "mimetype": "text/x-python",
   "name": "python",
   "nbconvert_exporter": "python",
   "pygments_lexer": "ipython2",
   "version": "2.7.10"
  }
 },
 "nbformat": 4,
 "nbformat_minor": 0
}
