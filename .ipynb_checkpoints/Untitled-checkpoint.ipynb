{
 "cells": [
  {
   "cell_type": "code",
   "execution_count": 1,
   "metadata": {
    "collapsed": false
   },
   "outputs": [
    {
     "name": "stdout",
     "output_type": "stream",
     "text": [
      "Couldn't import dot_parser, loading of dot files will not be possible.\n"
     ]
    }
   ],
   "source": [
    "import collections\n",
    "import csv\n",
    "from blind_dataset_metrics import read_blind_predictions\n",
    "import pandas as pd"
   ]
  },
  {
   "cell_type": "code",
   "execution_count": 3,
   "metadata": {
    "collapsed": false
   },
   "outputs": [],
   "source": [
    "allele_list = ['A0101',\t    'A0201',\t'A0202',    'A0203',\t'A0206',\t'A0301',\n",
    "                   'A1101',\t    'A2301',\t'A2402',\t'A2501',\t'A2601',    'A2602',\n",
    "                   'A2603',\t    'A2902',\t'A3001',\t'A3002',\t'A3101',\t'A3201',\n",
    "                   'A3301',\t    'A6801',\t'A6802',\t'A6901',    'A8001',\t'B0702',\n",
    "                   'B0801',\t    'B0802',\t'B0803',\t'B1501',\t'B1503',    'B1509',\n",
    "                   'B1517',\t    'B1801',\t'B2703',    'B2705',    'B3501',\t'B3801',\n",
    "                   'B3901',\t    'B4001',\t'B4002',\t'B4402',\t'B4403',\t'B4501',\n",
    "                   'B4601',\t    'B5101',    'B5301',\t'B5401',\t'B5701',\t'B5801'\t]\n",
    "for allele in allele_list:\n",
    "    filename = 'combined-test-data/'+ allele + '.csv'\n",
    "    preds  = read_blind_predictions(filename)\n",
    "    with open('blind_data.txt','a') as f:\n",
    "        for peptide in preds.keys():\n",
    "            f.write( '\\nhuman\\t'+allele+'\\t'+str(len(peptide))+'\\tTBD\\t'+peptide+'\\t=\\t'+str(preds[peptide]['meas']))"
   ]
  },
  {
   "cell_type": "code",
   "execution_count": 12,
   "metadata": {
    "collapsed": false
   },
   "outputs": [
    {
     "data": {
      "text/plain": [
       "AALEGLSGF      5000.345350\n",
       "AASAAQRRGR       18.793168\n",
       "AASIILEFFL      366.437575\n",
       "AAVEDEDFW       112.719746\n",
       "AAVEDEEFW         4.415704\n",
       "AAVLLLITHY     1174.897555\n",
       "AAVLLLVTHY     4149.540426\n",
       "AEFKYIAAV     78162.780459\n",
       "ALDISFTGA      5000.345350\n",
       "AQIDNYNKF     35237.087104\n",
       "ASAIVLEFF        28.183829\n",
       "ASGKLITEW        13.520726\n",
       "ASGKLVTQW        15.703628\n",
       "ASSALLWMAS    17021.585084\n",
       "ASSGMLWMAE     2280.342072\n",
       "ASSLLKNDIP     2103.778440\n",
       "ASSLLRNDVP      746.448758\n",
       "ASSMINGVVK     1306.170888\n",
       "ASSMVNGVVK     2792.543841\n",
       "ASSMVNGVVR     2065.380156\n",
       "ASSVLLWMAS      690.239804\n",
       "ATGPILTLW        13.121999\n",
       "ATGPISTLW         1.499685\n",
       "ATGPITTLW         4.886524\n",
       "ATGPLTTLW         7.194490\n",
       "ATGPVLTLW         1.999862\n",
       "ATLFVWYFW       199.986187\n",
       "ATLLVWHTW         1.690441\n",
       "ATPYDINQML    29308.932453\n",
       "ATVKGMQSY      4375.221052\n",
       "                  ...     \n",
       "VSSVNTTSKM     1458.814260\n",
       "VSSWEEVPYL      255.858589\n",
       "VTAKWLWGF        59.156163\n",
       "VTARWLWGF        38.018940\n",
       "VTGKIIHEW         4.808393\n",
       "VTMTLWYMW         1.595879\n",
       "WAIQCYTGV      5000.345350\n",
       "WASVKKDLIS       81.283052\n",
       "WDAYIPHYV      5000.345350\n",
       "WLYDLWGQL      5000.345350\n",
       "WMADVPLQW         1.999862\n",
       "WMAEIPLQW        13.899526\n",
       "WMASVEPHW        13.304544\n",
       "WMSSEGAWKH      215.278173\n",
       "WMSSEGAWKQ     7762.471166\n",
       "WSIHAKHEW         1.438799\n",
       "WSSFKKNGAI     5308.844442\n",
       "WTVNDIQKL      9397.233106\n",
       "WVAEIQPQW        57.676646\n",
       "YATQTVGPW        16.826741\n",
       "YEFLQPILL     78162.780459\n",
       "YLDNVGVHI      5000.345350\n",
       "YLPTQQDVL       147.570653\n",
       "YQAENSTAE      5000.345350\n",
       "YQSMIRPPY     19998.618696\n",
       "YRHDGGNVL     78162.780459\n",
       "YTGDFDSVI     11376.272858\n",
       "YTTDVNQLY        35.974934\n",
       "YVADALAAF     11748.975549\n",
       "YVIKVSARV     78162.780459\n",
       "Name: meas, dtype: float64"
      ]
     },
     "execution_count": 12,
     "metadata": {},
     "output_type": "execute_result"
    }
   ],
   "source": [
    "df.loc['meas']\n"
   ]
  },
  {
   "cell_type": "code",
   "execution_count": 21,
   "metadata": {
    "collapsed": false
   },
   "outputs": [],
   "source": [
    "from pan_allele.helpers.pan_allele_data_helpers import *\n",
    "blind_allele_groups, blind_df = load_binding_data('blind_data.txt')"
   ]
  },
  {
   "cell_type": "code",
   "execution_count": null,
   "metadata": {
    "collapsed": true
   },
   "outputs": [],
   "source": [
    "print "
   ]
  }
 ],
 "metadata": {
  "kernelspec": {
   "display_name": "Python 2",
   "language": "python",
   "name": "python2"
  },
  "language_info": {
   "codemirror_mode": {
    "name": "ipython",
    "version": 2
   },
   "file_extension": ".py",
   "mimetype": "text/x-python",
   "name": "python",
   "nbconvert_exporter": "python",
   "pygments_lexer": "ipython2",
   "version": "2.7.10"
  }
 },
 "nbformat": 4,
 "nbformat_minor": 0
}
