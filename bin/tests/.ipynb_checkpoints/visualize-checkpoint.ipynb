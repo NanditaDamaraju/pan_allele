{
 "cells": [
  {
   "cell_type": "code",
   "execution_count": 1,
   "metadata": {
    "collapsed": true
   },
   "outputs": [],
   "source": [
    "import seaborn as sns\n",
    "import numpy as np\n",
    "import matplotlib.pyplot as plt\n",
    "import matplotlib as mpl\n",
    "%matplotlib inline  "
   ]
  },
  {
   "cell_type": "code",
   "execution_count": 2,
   "metadata": {
    "collapsed": false
   },
   "outputs": [],
   "source": [
    "def fileopen(filenames):\n",
    "    batch = np.zeros((len(filenames),30))\n",
    "    test = np.zeros((len(filenames),30))\n",
    "    train = np.zeros((len(filenames),30))\n",
    "    for idx,files in enumerate(filenames):\n",
    "        print idx, files\n",
    "        with open(files,'rb') as f:\n",
    "            epoch = -1\n",
    "            for lines in f:\n",
    "                nb_line = int(lines.split()[0])\n",
    "                batch[idx][nb_line] = nb_line\n",
    "                test[idx][nb_line] = float(lines.split()[1])\n",
    "                train[idx][nb_line] = float(lines.split()[2])\n",
    "        \n",
    "    return batch, train, test\n",
    "        "
   ]
  },
  {
   "cell_type": "code",
   "execution_count": 3,
   "metadata": {
    "collapsed": false
   },
   "outputs": [],
   "source": [
    "import matplotlib.cm as cm\n",
    "def myplot(data,title):\n",
    "    line_width = 1.0\n",
    "    plt.figure(figsize=(15, 7), dpi=300)\n",
    "    plt.ylim(0.4,1)\n",
    "    plt.xlim(-0.5, 30)\n",
    "    plt.xticks(np.arange(0,30, 1))\n",
    "    plt.yticks(np.arange(0.4, 1, 0.025))\n",
    "    plt.ylabel('AUC')\n",
    "    plt.xlabel('epoch')\n",
    "    [batch, train, test] = data\n",
    "    colors = ['#e41a1c','#377eb8','#4daf4a','#984ea3']\n",
    "    for idx in range(len(batch)):\n",
    "        label = filename[idx].split('/')[1]\n",
    "        plt.plot(batch[idx], train[idx], color=colors[idx], linewidth=line_width,label =label)\n",
    "        plt.plot(batch[idx], train[idx],'k.')\n",
    "        plt.plot(batch[idx], test[idx], color=colors[idx], linewidth=line_width)\n",
    "        plt.plot(batch[idx], test[idx],'k.')\n",
    "    plt.legend(bbox_to_anchor=(1.13, 1),fancybox=True,frameon=True)\n",
    "    plt.title(title,fontsize=20)\n",
    "    title = \"activation_lr_iterations/\" + title + '.png'\n",
    "    plt.savefig(title)\n",
    "    #plt.show()"
   ]
  },
  {
   "cell_type": "code",
   "execution_count": 7,
   "metadata": {
    "collapsed": false
   },
   "outputs": [
    {
     "ename": "IndexError",
     "evalue": "index 30 is out of bounds for axis 0 with size 30",
     "output_type": "error",
     "traceback": [
      "\u001b[0;31m---------------------------------------------------------------------------\u001b[0m",
      "\u001b[0;31mIndexError\u001b[0m                                Traceback (most recent call last)",
      "\u001b[0;32m<ipython-input-7-047589fd7863>\u001b[0m in \u001b[0;36m<module>\u001b[0;34m()\u001b[0m\n\u001b[1;32m      1\u001b[0m \u001b[0mfilename\u001b[0m \u001b[0;34m=\u001b[0m \u001b[0;34m[\u001b[0m\u001b[0;34m\"matmult/0.001_relu_tanh\"\u001b[0m\u001b[0;34m]\u001b[0m\u001b[0;34m\u001b[0m\u001b[0m\n\u001b[0;32m----> 2\u001b[0;31m \u001b[0mdata\u001b[0m \u001b[0;34m=\u001b[0m \u001b[0mfileopen\u001b[0m\u001b[0;34m(\u001b[0m\u001b[0mfilename\u001b[0m\u001b[0;34m)\u001b[0m\u001b[0;34m\u001b[0m\u001b[0m\n\u001b[0m\u001b[1;32m      3\u001b[0m \u001b[0mmyplot\u001b[0m\u001b[0;34m(\u001b[0m\u001b[0mdata\u001b[0m\u001b[0;34m,\u001b[0m \u001b[0;34m'ABC'\u001b[0m\u001b[0;34m)\u001b[0m\u001b[0;34m\u001b[0m\u001b[0m\n",
      "\u001b[0;32m<ipython-input-2-56e3f0d31525>\u001b[0m in \u001b[0;36mfileopen\u001b[0;34m(filenames)\u001b[0m\n\u001b[1;32m      8\u001b[0m             \u001b[0;32mfor\u001b[0m \u001b[0mlines\u001b[0m \u001b[0;32min\u001b[0m \u001b[0mf\u001b[0m\u001b[0;34m:\u001b[0m\u001b[0;34m\u001b[0m\u001b[0m\n\u001b[1;32m      9\u001b[0m                 \u001b[0mnb_line\u001b[0m \u001b[0;34m=\u001b[0m \u001b[0mint\u001b[0m\u001b[0;34m(\u001b[0m\u001b[0mlines\u001b[0m\u001b[0;34m.\u001b[0m\u001b[0msplit\u001b[0m\u001b[0;34m(\u001b[0m\u001b[0;34m)\u001b[0m\u001b[0;34m[\u001b[0m\u001b[0;36m0\u001b[0m\u001b[0;34m]\u001b[0m\u001b[0;34m)\u001b[0m\u001b[0;34m\u001b[0m\u001b[0m\n\u001b[0;32m---> 10\u001b[0;31m                 \u001b[0mbatch\u001b[0m\u001b[0;34m[\u001b[0m\u001b[0midx\u001b[0m\u001b[0;34m]\u001b[0m\u001b[0;34m[\u001b[0m\u001b[0mnb_line\u001b[0m\u001b[0;34m]\u001b[0m \u001b[0;34m=\u001b[0m \u001b[0mnb_line\u001b[0m\u001b[0;34m\u001b[0m\u001b[0m\n\u001b[0m\u001b[1;32m     11\u001b[0m                 \u001b[0mtest\u001b[0m\u001b[0;34m[\u001b[0m\u001b[0midx\u001b[0m\u001b[0;34m]\u001b[0m\u001b[0;34m[\u001b[0m\u001b[0mnb_line\u001b[0m\u001b[0;34m]\u001b[0m \u001b[0;34m=\u001b[0m \u001b[0mfloat\u001b[0m\u001b[0;34m(\u001b[0m\u001b[0mlines\u001b[0m\u001b[0;34m.\u001b[0m\u001b[0msplit\u001b[0m\u001b[0;34m(\u001b[0m\u001b[0;34m)\u001b[0m\u001b[0;34m[\u001b[0m\u001b[0;36m1\u001b[0m\u001b[0;34m]\u001b[0m\u001b[0;34m)\u001b[0m\u001b[0;34m\u001b[0m\u001b[0m\n\u001b[1;32m     12\u001b[0m                 \u001b[0mtrain\u001b[0m\u001b[0;34m[\u001b[0m\u001b[0midx\u001b[0m\u001b[0;34m]\u001b[0m\u001b[0;34m[\u001b[0m\u001b[0mnb_line\u001b[0m\u001b[0;34m]\u001b[0m \u001b[0;34m=\u001b[0m \u001b[0mfloat\u001b[0m\u001b[0;34m(\u001b[0m\u001b[0mlines\u001b[0m\u001b[0;34m.\u001b[0m\u001b[0msplit\u001b[0m\u001b[0;34m(\u001b[0m\u001b[0;34m)\u001b[0m\u001b[0;34m[\u001b[0m\u001b[0;36m2\u001b[0m\u001b[0;34m]\u001b[0m\u001b[0;34m)\u001b[0m\u001b[0;34m\u001b[0m\u001b[0m\n",
      "\u001b[0;31mIndexError\u001b[0m: index 30 is out of bounds for axis 0 with size 30"
     ]
    }
   ],
   "source": [
    "filename = [\"matmult/0.001_relu_tanh\"]\n",
    "data = fileopen(filename)\n",
    "myplot(data, 'ABC')"
   ]
  },
  {
   "cell_type": "code",
   "execution_count": null,
   "metadata": {
    "collapsed": false
   },
   "outputs": [],
   "source": [
    "from os import listdir\n",
    "from os.path import isfile, join\n",
    "extensions = ('.png', '.jpg')\n",
    "mypath = \"activation_lr_iterations/\"\n",
    "onlyfiles = [ mypath+f for f in listdir(mypath) if isfile(join(mypath,f)) ]\n",
    "for currentFile in onlyfiles:\n",
    "    if any(currentFile.endswith(ext) for ext in extensions):\n",
    "        os.remove(currentFile)\n",
    "        onlyfiles.remove(currentFile)\n",
    "for i in range(1,13):\n",
    "    filename = onlyfiles[(i-1)*4:i*4]\n",
    "    title = '_'.join(filename[1].split('/')[1].split('_')[:2])\n",
    "    print title\n",
    "    data = fileopen(filename)\n",
    "    myplot(data, title)\n"
   ]
  },
  {
   "cell_type": "code",
   "execution_count": null,
   "metadata": {
    "collapsed": true
   },
   "outputs": [],
   "source": []
  },
  {
   "cell_type": "code",
   "execution_count": null,
   "metadata": {
    "collapsed": false,
    "scrolled": false
   },
   "outputs": [],
   "source": [
    "for name in onlyfiles:\n",
    "    with open(name) as f:\n",
    "        max_AUC=0\n",
    "        for lines in f:\n",
    "            max_AUC = max(max_AUC, lines.split()[1])\n",
    "        final_AUC = lines.split()[1]    \n",
    "        print name, \"\\t\\t\", max_AUC, \"\\t\", final_AUC"
   ]
  },
  {
   "cell_type": "code",
   "execution_count": null,
   "metadata": {
    "collapsed": false
   },
   "outputs": [],
   "source": [
    "import os\n",
    "mypath = \"activation_lr_iterations/\"\n",
    "onlyfiles = [f for f in listdir(mypath) if isfile(join(mypath,f)) ]\n",
    "for name in onlyfiles:\n",
    "    new_name = name.split(\"_\")\n",
    "    myorder = [2,0,1]\n",
    "    print new_name\n",
    "    new_name = '_'.join([new_name[i] for i in myorder])\n",
    "    os.rename(mypath+name,new_name)"
   ]
  },
  {
   "cell_type": "code",
   "execution_count": null,
   "metadata": {
    "collapsed": false
   },
   "outputs": [],
   "source": [
    "with open('activation_lr_iterations/sort') as f:\n",
    "    counter = 0\n",
    "    filename = []\n",
    "    for lines in f: \n",
    "        if(counter%31 == 0):\n",
    "            name = '_'.join(lines.split())\n",
    "            filename = 'activation_lr_iterations/' + name\n",
    "            print filename\n",
    "        else:\n",
    "            print filename\n",
    "            with open(filename, 'ab') as w:\n",
    "                w.write(str(lines))\n",
    "        counter+=1"
   ]
  }
 ],
 "metadata": {
  "kernelspec": {
   "display_name": "Python 2",
   "language": "python",
   "name": "python2"
  },
  "language_info": {
   "codemirror_mode": {
    "name": "ipython",
    "version": 2
   },
   "file_extension": ".py",
   "mimetype": "text/x-python",
   "name": "python",
   "nbconvert_exporter": "python",
   "pygments_lexer": "ipython2",
   "version": "2.7.10"
  }
 },
 "nbformat": 4,
 "nbformat_minor": 0
}
