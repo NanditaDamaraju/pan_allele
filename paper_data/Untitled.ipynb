{
 "cells": [
  {
   "cell_type": "code",
   "execution_count": 1,
   "metadata": {
    "collapsed": true
   },
   "outputs": [],
   "source": [
    "import csv\n",
    "import numpy as np\n",
    "import collections\n",
    "import pandas as pd\n",
    "import matplotlib.pyplot as plt\n",
    "import seaborn as sns\n",
    "from math import log\n",
    "%matplotlib inline \n",
    "import sys\n",
    "path = \"/Users/NanditaD/Intern/mhclearn/\"\n",
    "sys.path.append(path+'/py/')"
   ]
  },
  {
   "cell_type": "code",
   "execution_count": 2,
   "metadata": {
    "collapsed": false,
    "scrolled": false
   },
   "outputs": [],
   "source": [
    "filename = 'conv_2009_allmetrics_20000'\n",
    "metrics = collections.defaultdict(dict)\n",
    "columns = ['AUC', 'ACC', 'PRE', 'REC', 'F1']\n",
    "with open(filename, 'rb') as csvfile:\n",
    "    reader = csv.reader(csvfile, delimiter=' ', quotechar='|')\n",
    "    for row in reader:\n",
    "        for idx,name in enumerate(columns):\n",
    "            try:\n",
    "                metrics[int(row[0])][name] += float(row[idx+1])\n",
    "            except:\n",
    "                metrics[int(row[0])][name] = float(row[idx+1])\n",
    "                \n",
    "df = pd.DataFrame(metrics)/5"
   ]
  },
  {
   "cell_type": "code",
   "execution_count": 3,
   "metadata": {
    "collapsed": false
   },
   "outputs": [
    {
     "data": {
      "text/plain": [
       "[<matplotlib.lines.Line2D at 0x115861710>]"
      ]
     },
     "execution_count": 3,
     "metadata": {},
     "output_type": "execute_result"
    },
    {
     "data": {
      "image/png": "[encoded data removed]",
      "text/plain": [
       "<matplotlib.figure.Figure at 0x115627ad0>"
      ]
     },
     "metadata": {},
     "output_type": "display_data"
    }
   ],
   "source": [
    "plt.figure(figsize=(17,5))\n",
    "plt.xticks(np.arange(70))\n",
    "plt.plot(np.arange(70),df.loc['AUC'],'o')"
   ]
  },
  {
   "cell_type": "code",
   "execution_count": 4,
   "metadata": {
    "collapsed": false
   },
   "outputs": [
    {
     "data": {
      "text/plain": [
       "array([[ 1.        ,  0.99582168],\n",
       "       [ 0.99582168,  1.        ]])"
      ]
     },
     "execution_count": 4,
     "metadata": {},
     "output_type": "execute_result"
    }
   ],
   "source": [
    "np.corrcoef(df.loc['F1']*df.loc['AUC'],df.loc['ACC'])"
   ]
  },
  {
   "cell_type": "code",
   "execution_count": 16,
   "metadata": {
    "collapsed": false
   },
   "outputs": [],
   "source": [
    "import sys\n",
    "path = \"/Users/NanditaD/Intern/mhclearn/\"\n",
    "sys.path.append(path+'/py/')\n",
    "from pan_allele.feedforward_models import ffn_matrix\n",
    "from pan_allele.convolution_model import convolution_graph_matrix\n",
    "from pan_allele.generate_pseudo_sequences import create_fasta_file\n",
    "from pan_allele.pan_allele_data_helpers import load_allele_sequence_data\n",
    "from pan_allele.sequence_encoding import padded_indices\n",
    "from pan_allele.amino_acid import amino_acid_letter_indices, amino_acid_letters\n",
    "from keras.models import Graph\n",
    "from sklearn.metrics import roc_auc_score, f1_score, accuracy_score, precision_score, recall_score\n",
    "import numpy as np\n",
    "import collections\n",
    "import pandas as pd\n",
    "import csv\n"
   ]
  },
  {
   "cell_type": "code",
   "execution_count": 22,
   "metadata": {
    "collapsed": false
   },
   "outputs": [],
   "source": [
    "\n",
    "log_transformed_ic50_cutoff = 1 - np.log(500)/np.log(20000)\n",
    "\n",
    "def averages(d,num):\n",
    "    for key, value in d.items():\n",
    "        d[key] = value / num\n",
    "    return d\n",
    "\n",
    "\n",
    "def format_peptide(peptide):\n",
    "    if(len(peptide) == 9):\n",
    "        return [peptide]\n",
    "    elif(len(peptide) == 8):\n",
    "        peptides = [peptide[:pos] +char +peptide[(pos):] for pos in range(4,9) for char in amino_acid_letters]\n",
    "    elif(len(peptide) == 10):\n",
    "        peptides = [peptide[:pos] + peptide[(pos+1):] for pos in range(4,9)]\n",
    "    elif(len(peptide) == 11):\n",
    "        peptides = [peptide[:pos] + peptide[(pos+2):] for pos in range(4,9)]\n",
    "    return peptides\n",
    "#hyperparameters  = {'cutoff':[ 0], 'dropouts': [ 0.17621593,  0.        ,  0.   ], 'sizes': [ 16, 128,  99, 128, 102], 'mult_size': [32, 15]}\n",
    "hyperparameters = {'filter_length': [3, 4], 'nb_filter': [67, 92], 'mult_size': [32, 10], 'layer_size': [ 128, 92, 65]}\n",
    "create_fasta_file(path, remove_residues = False, consensus_cutoff =0)\n",
    "mhc_sequence_fasta_file = path + 'py/pan_allele/files/pseudo/pseudo_sequences.fasta'\n",
    "allele_sequence_data, max_allele_length = load_allele_sequence_data(mhc_sequence_fasta_file)\n",
    "\n"
   ]
  },
  {
   "cell_type": "code",
   "execution_count": null,
   "metadata": {
    "collapsed": false,
    "scrolled": true
   },
   "outputs": [],
   "source": [
    "for num in range(13,18):\n",
    "    #graph = ffn_matrix( hyperparameters=hyperparameters, maxlen_mhc = max_allele_length)\n",
    "    graph = convolution_graph_matrix(\n",
    "                                        hyperparameters = hyperparameters,\n",
    "                                        maxlen_mhc = max_allele_length,\n",
    "                                    )\n",
    "    graph.load_weights(path + 'py/pan_allele/weights/weights_conv' + str(num))\n",
    "    predictors = ['mhcflurry', 'netmhcpan', 'netmhc', 'smmpmbec_cpp']\n",
    "    AUC_total = {}\n",
    "    ACC_total = {}\n",
    "    F1_total = {}\n",
    "    total =0\n",
    "    for val in predictors:\n",
    "        AUC_total[val] = 0\n",
    "        ACC_total[val] = 0\n",
    "        F1_total[val] = 0\n",
    "\n",
    "    allele_list = ['A0101',\t    'A0201',\t    'A0202',\t    'A0203',\t    'A0206',\t    'A0301',\t    'A1101',\t    'A2301',\t    'A2402',\t    'A2501',\t    'A2601',\n",
    "'A2602',\t'A2603',\t'A2902',\t'A3001',\t'A3002',\t'A3101',\t'A3201',\t'A3301',\t'A6801',\t'A6802',\t'A6901',\n",
    "'A8001',\t'B0702',\t'B0801',\t'B0802',\t'B0803',\t'B1501',\t'B1503',\t'B1509',\t'B1517',\t'B1801',\t'B2703',\n",
    "'B2705',\t'B3501',\t'B3801',\t'B3901',\t'B4001',\t'B4002',\t'B4402',\t'B4403',\t'B4501',\t'B4601',\t'B5101',\n",
    "'B5301',\t'B5401',\t'B5701',\t'B5801'\t\t\t\t\t\t\t\t]\n",
    "    for allele in allele_list:\n",
    "        filename = 'combined-test-data/'+ allele + '.csv'\n",
    "        predictions = collections.defaultdict(dict)\n",
    "        with open(filename, 'rb') as csvfile:\n",
    "            records = csv.reader(csvfile, quoting=csv.QUOTE_NONE)\n",
    "            header = records.next()\n",
    "            for row in records:\n",
    "                    for i,val in enumerate(header):\n",
    "                        try:\n",
    "                            predictions[row[0]][val] = float(row[i])\n",
    "                        except:\n",
    "                            pass\n",
    "        peptides = predictions.keys()\n",
    "        mhc_seq = padded_indices([allele_sequence_data[allele]],\n",
    "                                        add_start_symbol=False,\n",
    "                                        add_end_symbol=False,\n",
    "                                        index_dict=amino_acid_letter_indices)\n",
    "        for peptide in peptides:\n",
    "            mhc_seq = padded_indices([allele_sequence_data[allele]],\n",
    "                                            add_start_symbol=False,\n",
    "                                            add_end_symbol=False,\n",
    "                                            index_dict=amino_acid_letter_indices)\n",
    "            X_p = padded_indices(format_peptide(peptide),\n",
    "                                    add_start_symbol=False,\n",
    "                                    add_end_symbol=False,\n",
    "                                    index_dict=amino_acid_letter_indices)\n",
    "            mhc_seq = np.tile(mhc_seq,(len(X_p),1))\n",
    "            preds = graph.predict({'peptide':X_p,'mhc':mhc_seq})['output']\n",
    "            preds = np.mean(preds)\n",
    "            value =  20000**(1- preds)\n",
    "            predictions[peptide]['mhcflurry'] = float(value)\n",
    "            #print peptide, predictions[peptide]['meas'], value\n",
    "\n",
    "        df_pred = pd.DataFrame(predictions)\n",
    "        Y_true = np.array(df_pred.loc['meas'])\n",
    "        Y_true_binary = Y_true <=500\n",
    "        print \"\\n=====\", allele, sum(Y_true_binary), len(Y_true), \"====\"\n",
    "        total += len(peptides)\n",
    "        for val in predictors:\n",
    "            Y_pred = np.array(df_pred.loc[val])\n",
    "            Y_pred_log = 1 - np.log(Y_pred)/np.log(20000)\n",
    "            try:\n",
    "                AUC = roc_auc_score(Y_true_binary, Y_pred_log)\n",
    "                Y_pred_binary = Y_pred <= 500\n",
    "                ACC = accuracy_score(Y_true_binary, Y_pred_binary)\n",
    "                F1 = f1_score(Y_true_binary, Y_pred_binary)\n",
    "                print \">\",val\n",
    "                print 'AUC=', AUC,'\\tACC=', ACC,'\\tF1=', F1,\n",
    "                print \"\\tprecision=\", precision_score(Y_true_binary, Y_pred_binary)\n",
    "                print \"\\trecall=\", recall_score(Y_true_binary, Y_pred_binary)\n",
    "                AUC_total[val] += AUC*len(peptides)\n",
    "                ACC_total[val] += ACC*len(peptides)\n",
    "                F1_total[val] += F1*len(peptides)\n",
    "            except:\n",
    "                pass\n",
    "    print num\n",
    "    print averages(AUC_total, total)\n",
    "    print averages(ACC_total, total)\n",
    "    print averages(F1_total, total)\n",
    "\n"
   ]
  },
  {
   "cell_type": "code",
   "execution_count": null,
   "metadata": {
    "collapsed": true
   },
   "outputs": [],
   "source": []
  },
  {
   "cell_type": "code",
   "execution_count": null,
   "metadata": {
    "collapsed": true
   },
   "outputs": [],
   "source": []
  }
 ],
 "metadata": {
  "kernelspec": {
   "display_name": "Python 2",
   "language": "python",
   "name": "python2"
  },
  "language_info": {
   "codemirror_mode": {
    "name": "ipython",
    "version": 2
   },
   "file_extension": ".py",
   "mimetype": "text/x-python",
   "name": "python",
   "nbconvert_exporter": "python",
   "pygments_lexer": "ipython2",
   "version": "2.7.10"
  }
 },
 "nbformat": 4,
 "nbformat_minor": 0
}
