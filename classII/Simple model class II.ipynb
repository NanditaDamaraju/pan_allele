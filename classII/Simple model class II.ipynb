{
 "cells": [
  {
   "cell_type": "code",
   "execution_count": 32,
   "metadata": {
    "collapsed": false
   },
   "outputs": [],
   "source": [
    "import os\n",
    "import sys\n",
    "sys.path.append(os.path.split(os.getcwd())[0])\n",
    "import pandas as pd\n",
    "import numpy as np\n",
    "from sklearn.metrics import roc_auc_score, precision_score, accuracy_score\n",
    "from collections import namedtuple\n",
    "from pan_allele.helpers.pan_allele_data_helpers import *\n",
    "from pan_allele.helpers.sequence_encoding import *\n",
    "from pan_allele.helpers.amino_acid import *\n",
    "from keras.models import Sequential\n",
    "from keras.layers.core import Dense, Dropout, Activation, Flatten\n",
    "from keras.layers.embeddings import Embedding\n",
    "from keras.layers.recurrent import LSTM\n",
    "from keras.optimizers import SGD"
   ]
  },
  {
   "cell_type": "code",
   "execution_count": 2,
   "metadata": {
    "collapsed": true
   },
   "outputs": [],
   "source": [
    "def load_binding_data_2(filename, max_ic50 = 50000):\n",
    "\n",
    "    df = pd.read_csv(filename, sep=\"\\t\")\n",
    "    AlleleData = namedtuple(\"AlleleData\", \"Y peptides ic50\")\n",
    "    allele_groups = {}\n",
    "    peptide_mask_1 = df['sequence'].str.find('-')<0\n",
    "    peptide_mask_2 = df['sequence'].str.find('+')<0\n",
    "    df = df[peptide_mask_1&peptide_mask_2]\n",
    "    for allele, group in df.groupby(\"mhc\"):\n",
    "        bad_hla_name_elements = [\n",
    "            \"HLA-\",\n",
    "            \"-\",\n",
    "            \"*\",\n",
    "            \":\"\n",
    "        ]\n",
    "        \n",
    "        \n",
    "        for substring in bad_hla_name_elements:\n",
    "            allele = allele.replace(substring, \"\")\n",
    "        ic50 = np.array(group[\"meas\"])\n",
    "        log_ic50 = 1.0 - np.log(ic50) / np.log(max_ic50)\n",
    "        Y = np.maximum(0.0, log_ic50)\n",
    "        Y = np.minimum(1.0, Y)\n",
    "        peptides = list(group[\"sequence\"])\n",
    "        \n",
    "        allele_groups[allele] = AlleleData(\n",
    "            Y=Y,\n",
    "            ic50=ic50,\n",
    "            peptides=peptides)\n",
    "        \n",
    "    return allele_groups, df"
   ]
  },
  {
   "cell_type": "code",
   "execution_count": 3,
   "metadata": {
    "collapsed": false
   },
   "outputs": [],
   "source": [
    "allele_groups, df = load_binding_data_2('bdata.classii.2010.csv')"
   ]
  },
  {
   "cell_type": "code",
   "execution_count": 55,
   "metadata": {
    "collapsed": false
   },
   "outputs": [],
   "source": [
    "Y_true, peptides, ic50 = allele_groups['DRB10101']"
   ]
  },
  {
   "cell_type": "code",
   "execution_count": 5,
   "metadata": {
    "collapsed": false
   },
   "outputs": [
    {
     "data": {
      "text/plain": [
       "0"
      ]
     },
     "execution_count": 5,
     "metadata": {},
     "output_type": "execute_result"
    }
   ],
   "source": [
    "s = df.sequence\n",
    "np.sum(s.str.find('-')>0)"
   ]
  },
  {
   "cell_type": "code",
   "execution_count": 76,
   "metadata": {
    "collapsed": false
   },
   "outputs": [],
   "source": [
    "affinity_model = Sequential()\n",
    "affinity_model.add(Dense(64, input_dim=180, activation='tanh'))\n",
    "affinity_model.add(Dropout(0.2))\n",
    "affinity_model.add(Dense(128, input_dim=64, activation='tanh'))\n",
    "affinity_model.add(Dropout(0.2))\n",
    "affinity_model.add(Dense(1, input_dim=128, activation='sigmoid'))\n",
    "affinity_model.compile(loss='mse', optimizer='sgd')\n",
    "\n"
   ]
  },
  {
   "cell_type": "code",
   "execution_count": 83,
   "metadata": {
    "collapsed": false,
    "scrolled": false
   },
   "outputs": [],
   "source": [
    "nb_epoch = 50\n",
    "\n",
    "for i in range(nb_epoch):\n",
    "    X_final = []\n",
    "    Y_final = []\n",
    "    probs = []\n",
    "    for idx, peptide in enumerate(peptides):\n",
    "        if len(peptide) >=9:\n",
    "            #get 9-mers from each peptide\n",
    "            split_peptides = [peptide[pos:pos+9] for pos in range(0, len(peptide)-9 + 1) ]\n",
    "            X = onehot(split_peptides, index_dict=amino_acid_letter_indices)\n",
    "            X = X.reshape(X.shape[0], X.shape[1]*X.shape[2]) \n",
    "            #predict binding strength values\n",
    "            predictions = affinity_model.predict(X)\n",
    "            #probability of 9-mer being a binding core\n",
    "            #nromalize predictions to get probability of binding for each context\n",
    "            prob = predictions/np.sum(predictions)\n",
    "            X_final.extend(X)\n",
    "            Y_final.extend([Y_true[idx]]*len(split_peptides))\n",
    "            probs.extend(prob)\n",
    "    X_final = np.array(X_final)\n",
    "    Y_final = np.array(Y_final)\n",
    "    probs = np.array(probs)\n",
    "    affinity_model.fit(X_final,Y_final, nb_epoch=1, sample_weight=probs, verbose=0)\n",
    "       \n",
    "            \n",
    "     "
   ]
  },
  {
   "cell_type": "code",
   "execution_count": 84,
   "metadata": {
    "collapsed": true
   },
   "outputs": [],
   "source": [
    "Y_pred = []\n",
    "Y_true_score = []\n",
    "for idx, peptide in enumerate(peptides):\n",
    "      if len(peptide) >=9:\n",
    "            #get 9-mers from each peptide\n",
    "            split_peptides = [peptide[pos:pos+9] for pos in range(0, len(peptide)-9 + 1) ]\n",
    "            X = onehot(split_peptides, index_dict=amino_acid_letter_indices)\n",
    "            X = X.reshape(X.shape[0], X.shape[1]*X.shape[2]) \n",
    "            predictions = affinity_model.predict(X)\n",
    "            Y_pred.append(np.mean(predictions))\n",
    "            Y_true_score.append(Y_true[idx])\n",
    "    \n",
    "Y_true_score = np.array(Y_true_score)\n",
    "Y_pred = np.array(Y_pred)"
   ]
  },
  {
   "cell_type": "code",
   "execution_count": 85,
   "metadata": {
    "collapsed": false
   },
   "outputs": [
    {
     "name": "stdout",
     "output_type": "stream",
     "text": [
      "7233\n",
      "Training AUC: 0.761575594003\n",
      "Training Accuracy 0.712982165077\n"
     ]
    }
   ],
   "source": [
    "Y_binary = 50000**(1-Y_true_score)\n",
    "print len(Y_binary)\n",
    "Y_binary = Y_binary<500\n",
    "Y_pred_binary = 50000**(1-Y_pred)\n",
    "Y_pred_binary = Y_pred_binary<500\n",
    "print \"Training AUC:\", roc_auc_score(Y_binary,Y_pred)\n",
    "print \"Training Accuracy\", accuracy_score(Y_binary, Y_pred_binary)"
   ]
  },
  {
   "cell_type": "code",
   "execution_count": 52,
   "metadata": {
    "collapsed": false
   },
   "outputs": [
    {
     "name": "stdout",
     "output_type": "stream",
     "text": [
      " (52220, 1) (52220,)\n",
      "0.703011654801 0.621179624665\n"
     ]
    }
   ],
   "source": [
    "all_pep = []\n",
    "Y  = affinity_model.predict(X_final)\n",
    "print Y.shape, Y_final.shape\n",
    "Y_binary = 50000**(1-Y_final)\n",
    "Y_binary = Y_binary<500\n",
    "Y_pred_binary = Y<500\n",
    "print roc_auc_score(Y_binary,Y), accuracy_score(Y_binary, Y_pred_binary)"
   ]
  },
  {
   "cell_type": "code",
   "execution_count": 9,
   "metadata": {
    "collapsed": true
   },
   "outputs": [],
   "source": [
    "allele_groups_class1, random_df = load_binding_data('/Users/NanditaD/Intern/pan_allele/pan_allele/files/bdata.2009.mhci.public.1.txt')"
   ]
  },
  {
   "cell_type": "code",
   "execution_count": 20,
   "metadata": {
    "collapsed": false
   },
   "outputs": [],
   "source": [
    "allele_sequence_data, mhclength = load_allele_sequence_data('/Users/NanditaD/Intern/pan_allele/pan_allele/files/trimmed-human-class1-IEDB.fasta')"
   ]
  },
  {
   "cell_type": "code",
   "execution_count": 21,
   "metadata": {
    "collapsed": false
   },
   "outputs": [],
   "source": [
    "allele_list = ['A0201']"
   ]
  },
  {
   "cell_type": "code",
   "execution_count": 24,
   "metadata": {
    "collapsed": false
   },
   "outputs": [],
   "source": [
    "peptides, mhc, Y_class1 = get_model_data(allele_list, allele_sequence_data, allele_groups_class1, mhc_length=mhclength)"
   ]
  },
  {
   "cell_type": "code",
   "execution_count": 25,
   "metadata": {
    "collapsed": false
   },
   "outputs": [
    {
     "data": {
      "text/plain": [
       "array([[  6.,  10.,  15., ...,   4.,   2.,  10.],\n",
       "       [  8.,   2.,   8., ...,   5.,  15.,   3.],\n",
       "       [ 14.,   4.,  12., ...,  15.,  16.,  14.],\n",
       "       ..., \n",
       "       [ 14.,   0.,   6., ...,  18.,   0.,  16.],\n",
       "       [ 16.,  18.,   6., ...,  17.,  10.,  10.],\n",
       "       [  8.,  14.,   1., ...,   1.,  18.,  19.]])"
      ]
     },
     "execution_count": 25,
     "metadata": {},
     "output_type": "execute_result"
    }
   ],
   "source": [
    "peptides"
   ]
  },
  {
   "cell_type": "code",
   "execution_count": null,
   "metadata": {
    "collapsed": true
   },
   "outputs": [],
   "source": []
  }
 ],
 "metadata": {
  "kernelspec": {
   "display_name": "Python 2",
   "language": "python",
   "name": "python2"
  },
  "language_info": {
   "codemirror_mode": {
    "name": "ipython",
    "version": 2
   },
   "file_extension": ".py",
   "mimetype": "text/x-python",
   "name": "python",
   "nbconvert_exporter": "python",
   "pygments_lexer": "ipython2",
   "version": "2.7.10"
  }
 },
 "nbformat": 4,
 "nbformat_minor": 0
}
