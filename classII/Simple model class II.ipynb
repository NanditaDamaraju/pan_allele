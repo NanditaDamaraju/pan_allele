{
 "cells": [
  {
   "cell_type": "code",
   "execution_count": 1,
   "metadata": {
    "collapsed": false
   },
   "outputs": [
    {
     "name": "stdout",
     "output_type": "stream",
     "text": [
      "Using Theano backend.\n",
      "Couldn't import dot_parser, loading of dot files will not be possible.\n"
     ]
    }
   ],
   "source": [
    "import os\n",
    "import sys\n",
    "sys.path.append(os.path.split(os.getcwd())[0])\n",
    "import pandas as pd\n",
    "import numpy as np\n",
    "from sklearn.metrics import roc_auc_score, precision_score, accuracy_score, f1_score\n",
    "from sklearn.cross_validation import train_test_split\n",
    "from collections import namedtuple\n",
    "from pan_allele.helpers.pan_allele_data_helpers import *\n",
    "from pan_allele.helpers.sequence_encoding import *\n",
    "from pan_allele.helpers.amino_acid import *\n",
    "from keras.models import Sequential, Graph\n",
    "from keras.layers.core import Dense, Dropout, Activation, Flatten\n",
    "from keras.layers.embeddings import Embedding\n",
    "from keras.layers.recurrent import LSTM\n",
    "from keras.optimizers import SGD"
   ]
  },
  {
   "cell_type": "code",
   "execution_count": 2,
   "metadata": {
    "collapsed": true
   },
   "outputs": [],
   "source": [
    "def train_classII_data(model, peptides, Y_true, nb_epoch = 50):   \n",
    "    for i in range(nb_epoch):\n",
    "        X_final = []\n",
    "        Y_final = []\n",
    "        probs = []\n",
    "        for idx, peptide in enumerate(peptides):\n",
    "            if len(peptide) >=9:\n",
    "                #get 9-mers from each peptide\n",
    "                split_peptides = [peptide[pos:pos+9] for pos in range(0, len(peptide)-9 + 1) ]\n",
    "                X = onehot(split_peptides, index_dict=amino_acid_letter_indices)\n",
    "                #X = X.reshape(X.shape[0], X.shape[1]*X.shape[2]) \n",
    "                #predict binding strength values\n",
    "                predictions = model.predict(X)\n",
    "                #probability of 9-mer being a binding core\n",
    "                #nromalize predictions to get probability of binding for each context\n",
    "                prob = predictions/np.sum(predictions)\n",
    "                X_final.extend(X)\n",
    "                Y_final.extend([Y_true[idx]]*len(split_peptides))\n",
    "                probs.extend(prob)\n",
    "        X_final = np.array(X_final)\n",
    "        Y_final = np.array(Y_final)\n",
    "        probs = np.array(probs)\n",
    "        model.fit(X_final,Y_final, nb_epoch=1, sample_weight=probs, verbose=1)\n",
    "    #return model            \n",
    "     "
   ]
  },
  {
   "cell_type": "code",
   "execution_count": 3,
   "metadata": {
    "collapsed": false
   },
   "outputs": [],
   "source": [
    "# Y_pred = []\n",
    "#     Y_true_score = []\n",
    "#     for idx, peptide in enumerate(peptides):\n",
    "#           if len(peptide) >=9:\n",
    "#                 split_peptides = [peptide[pos:pos+9] for pos in range(0, len(peptide)-9 + 1) ]\n",
    "#                 ##Why not permanently reshape this?\n",
    "#                 X = onehot(split_peptides, index_dict=amino_acid_letter_indices)\n",
    "#                 #X = X.reshape(X.shape[0], X.shape[1]*X.shape[2]) \n",
    "#                 predictions = model.predict(X)\n",
    "#                 Y_pred.append(np.mean(predictions))\n",
    "#                 Y_true_score.append(Y_true[idx])"
   ]
  },
  {
   "cell_type": "code",
   "execution_count": 4,
   "metadata": {
    "collapsed": false
   },
   "outputs": [],
   "source": [
    "def get_test_set_metrics(model, peptides, Y_true):\n",
    "    X = padded_indices(peptides, index_dict=amino_acid_letter_indices)\n",
    "    Y_pred = model.predict({'input':X})['output']\n",
    "    Y_binary = 50000**(1-Y_true)\n",
    "    Y_binary = Y_binary<500\n",
    "    \n",
    "    Y_pred = np.array(Y_pred)\n",
    "    Y_pred_binary = 50000**(1-Y_pred)\n",
    "    Y_pred_binary = Y_pred_binary<500\n",
    "    \n",
    "    print \"Training AUC:\", roc_auc_score(Y_binary,Y_pred)\n",
    "    print \"Training Accuracy\", accuracy_score(Y_binary, Y_pred_binary)\n",
    "    print \"F1 Score:\", f1_score(Y_binary, Y_pred_binary)"
   ]
  },
  {
   "cell_type": "code",
   "execution_count": 5,
   "metadata": {
    "collapsed": true
   },
   "outputs": [],
   "source": [
    "def load_model(max_len):\n",
    "    affinity_model = Sequential()\n",
    "    affinity_model.add(Embedding(input_dim=22,output_dim=64,mask_zero=False ))\n",
    "    affinity_model.add(LSTM(output_dim=64,input_dim=64, input_length=max_len ))\n",
    "    affinity_model.add(Dense(1, input_dim=max_len, activation='sigmoid'))\n",
    "    affinity_model.compile(loss='mse', optimizer='sgd')\n",
    "    return affinity_model"
   ]
  },
  {
   "cell_type": "code",
   "execution_count": 6,
   "metadata": {
    "collapsed": false
   },
   "outputs": [],
   "source": [
    "def load_bRNN(max_len):\n",
    "    model = Graph()\n",
    "    model.add_input(name='input', input_shape=(max_len,), dtype=int)\n",
    "    model.add_node(Embedding(22, 128, input_length=max_len, mask_zero=True),\n",
    "                   name='embedding', input='input')\n",
    "    model.add_node(LSTM(64), name='forward', input='embedding')\n",
    "    model.add_node(LSTM(64, go_backwards=True), name='backward', input='embedding')\n",
    "    model.add_node(Dense(1, activation='sigmoid'), name='sigmoid', inputs=['forward', 'backward'])\n",
    "    model.add_output(name='output', input='sigmoid')\n",
    "    model.compile('rmsprop', {'output': 'mse'})\n",
    "    return model"
   ]
  },
  {
   "cell_type": "code",
   "execution_count": 7,
   "metadata": {
    "collapsed": false
   },
   "outputs": [],
   "source": [
    "def train_LSTM(model, peptides, Y_true, nb_epoch = 50):    \n",
    "    X = padded_indices(peptides, index_dict=amino_acid_letter_indices)\n",
    "    model = load_bRNN(max_len = X.shape[1])\n",
    "    model.fit({'input':X,'output':Y_true}, nb_epoch=nb_epoch,verbose=1)\n",
    "    return model"
   ]
  },
  {
   "cell_type": "code",
   "execution_count": 8,
   "metadata": {
    "collapsed": false
   },
   "outputs": [],
   "source": [
    "allele_groups, df = load_binding_data('bdata.classii.2010.csv', max_ic50=50000)\n",
    "allele_list = [ 'DRB10101', 'DRB10301', 'DRB10401', 'DRB10404', 'DRB10405',\n",
    "                'DRB10701', 'DRB10802', 'DRB10901', 'DRB11101', 'DRB11302', \n",
    "                'DRB11501', 'DRB30101', 'DRB40101', 'DRB50101']\n",
    "allele_list = ['DRB10101']\n"
   ]
  },
  {
   "cell_type": "code",
   "execution_count": 9,
   "metadata": {
    "collapsed": false,
    "scrolled": false
   },
   "outputs": [],
   "source": [
    "Y_true, peptides, ic50 = allele_groups['DRB10101']\n",
    "peptide_train, peptide_test, Y_train, Y_test = train_test_split(peptides, Y_true, test_size = 0.2)"
   ]
  },
  {
   "cell_type": "code",
   "execution_count": 10,
   "metadata": {
    "collapsed": false,
    "scrolled": false
   },
   "outputs": [
    {
     "name": "stdout",
     "output_type": "stream",
     "text": [
      "Epoch 1/5\n",
      "5788/5788 [==============================] - 12s - loss: 0.0750    \n",
      "Epoch 2/5\n",
      "5788/5788 [==============================] - 12s - loss: 0.0670    \n",
      "Epoch 3/5\n",
      "5788/5788 [==============================] - 13s - loss: 0.0582    \n",
      "Epoch 4/5\n",
      "5788/5788 [==============================] - 13s - loss: 0.0561    \n",
      "Epoch 5/5\n",
      "5788/5788 [==============================] - 13s - loss: 0.0542    \n"
     ]
    }
   ],
   "source": [
    "model = train_LSTM(None, peptide_train, Y_train, nb_epoch=5)"
   ]
  },
  {
   "cell_type": "code",
   "execution_count": 20,
   "metadata": {
    "collapsed": false
   },
   "outputs": [
    {
     "name": "stdout",
     "output_type": "stream",
     "text": [
      "Training AUC: 0.813181820002\n",
      "Training Accuracy 0.724948168625\n",
      "F1 Score: 0.802775024777\n"
     ]
    }
   ],
   "source": [
    "get_test_set_metrics(model, peptide_test, Y_test)"
   ]
  },
  {
   "cell_type": "code",
   "execution_count": 20,
   "metadata": {
    "collapsed": false
   },
   "outputs": [
    {
     "name": "stdout",
     "output_type": "stream",
     "text": [
      "(None, 37, 128)\n",
      "(None, 64)\n",
      "(None, 64)\n",
      "(None, 1)\n"
     ]
    }
   ],
   "source": [
    "for layer in  model.nodes.values():\n",
    "    print layer.output_shape"
   ]
  },
  {
   "cell_type": "code",
   "execution_count": null,
   "metadata": {
    "collapsed": true
   },
   "outputs": [],
   "source": []
  }
 ],
 "metadata": {
  "kernelspec": {
   "display_name": "Python 2",
   "language": "python",
   "name": "python2"
  },
  "language_info": {
   "codemirror_mode": {
    "name": "ipython",
    "version": 2
   },
   "file_extension": ".py",
   "mimetype": "text/x-python",
   "name": "python",
   "nbconvert_exporter": "python",
   "pygments_lexer": "ipython2",
   "version": "2.7.10"
  }
 },
 "nbformat": 4,
 "nbformat_minor": 0
}
