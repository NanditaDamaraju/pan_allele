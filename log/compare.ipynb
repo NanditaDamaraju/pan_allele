{
 "cells": [
  {
   "cell_type": "markdown",
   "metadata": {},
   "source": [
    "###Basic Functionality"
   ]
  },
  {
   "cell_type": "code",
   "execution_count": 1,
   "metadata": {
    "collapsed": true
   },
   "outputs": [],
   "source": [
    "import seaborn as sns\n",
    "import numpy as np\n",
    "import matplotlib.pyplot as plt\n",
    "import matplotlib as mpl\n",
    "from os import listdir\n",
    "from os.path import isfile, join\n",
    "import matplotlib.cm as cm\n",
    "%matplotlib inline  "
   ]
  },
  {
   "cell_type": "code",
   "execution_count": 2,
   "metadata": {
    "collapsed": false
   },
   "outputs": [],
   "source": [
    "netMHCPan = {\n",
    "        'A0101':0.83585,'A0201':0.96101,'A0202':0.90824,'A0203':0.93336,\n",
    "        'A0205':0.981,'A0206':0.88616,'A0207':0.886,'A0211':0.97199,\n",
    "        'A0212':0.96742,'A0216':0.97475,'A0219':0.97382,'A0301':0.92361,\n",
    "        'A1101':0.94242,'A2301':0.89543,'A2402':0.91937,'A2403':0.95135,\n",
    "        'A2501':0.77582,'A2601':0.954,'A2602':0.99304,'A2603':0.98277,\n",
    "        'A2902':0.81755,'A3001':0.80343,'A3002':0.59806,'A3101':0.91681,\n",
    "        'A3201':0.65394,'A3301':0.90386,'A6801':0.80373,'A6802':0.89398,\n",
    "        'A6901':0.95306,'A8001':0.89048,'B0702':0.86227,'B0801':0.89156,\n",
    "        'B0802':0.981,'B0803':0.931,'B1501':0.88653,'B1502':0.79317,\n",
    "        'B1503':0.85089,'B1509':0.845,'B1517':0.95184,'B1801':0.86837,\n",
    "        'B2705':0.63188,'B3501':0.90946,'B3801':0.975, 'B3901':0.85931,\n",
    "        'B4001':0.9418,'B4002':0.83333,'B4402':0.93863,'B4403':0.86596,\n",
    "        'B4501':0.718,'B4601':0.89244,'B4801':0.95458,'B5101':0.84875,\n",
    "        'B5301':0.88792,'B5401':0.82651,'B5701':0.95508,'B5801':0.95977,\n",
    "        'B5801':0.651, 'B7301':0.887\n",
    "        }"
   ]
  },
  {
   "cell_type": "code",
   "execution_count": 3,
   "metadata": {
    "collapsed": false
   },
   "outputs": [],
   "source": [
    "def fileopen(filenames,nb_lines):\n",
    "    batch = {}\n",
    "    train = {}\n",
    "    test = {}\n",
    "    for files in filenames:\n",
    "        allele = files.split('/')[1]\n",
    "        with open(files,'r') as f:\n",
    "            try:\n",
    "                batch[allele] = np.arange(0,nb_lines)\n",
    "                lines = [line.strip() for line in f ]\n",
    "                test[allele] = [float(num) for num in  lines[0].replace('[','').replace(']','').split(',') ] \n",
    "                train[allele] = [float(num) for num in  lines[1].replace('[','').replace(']','').split(',') ]\n",
    "            except:\n",
    "                pass\n",
    "    return batch, train, test"
   ]
  },
  {
   "cell_type": "code",
   "execution_count": 4,
   "metadata": {
    "collapsed": false
   },
   "outputs": [],
   "source": [
    "\n",
    "def alleles_plot(mypath, nb_lines, \n",
    "                 train_show = True,\n",
    "                 alleles=all,\n",
    "                 y_lower = 0.4):\n",
    "   \n",
    "\n",
    "    if (alleles==all):\n",
    "        allele_list = [f for f in listdir(mypath) if isfile(join(mypath,f)) ]\n",
    "    else:\n",
    "        allele_list = alleles\n",
    "    \n",
    "    onlyfiles = [mypath+f for f in allele_list]\n",
    "    extensions = ('.png', '.jpg')\n",
    "    for currentFile in onlyfiles:\n",
    "        if any(currentFile.endswith(ext) for ext in extensions):\n",
    "            os.remove(currentFile)\n",
    "            onlyfiles.remove(currentFile)\n",
    "    [batch, train, test] = fileopen(onlyfiles,nb_lines)\n",
    "    \n",
    "    line_width = 1.0\n",
    "    plt.figure(figsize=(15, 7), dpi=300)\n",
    "    plt.ylim(y_lower,1)\n",
    "    plt.xlim(-0.5, 30)\n",
    "    plt.xticks(np.arange(0,nb_lines, 1))\n",
    "    plt.yticks(np.arange(y_lower, 1, 0.025))\n",
    "    plt.ylabel('AUC')\n",
    "    plt.xlabel('epoch')\n",
    "    \n",
    "    colormap = plt.cm.gist_ncar\n",
    "    colors = [colormap(i) for i in np.linspace(0, 0.9, len(batch))]\n",
    "    \n",
    "    for i, allele in enumerate(allele_list):\n",
    "        label = allele\n",
    "        if train_show:\n",
    "            plt.plot(batch[allele], train[allele], color=colors[i], linewidth=line_width)\n",
    "            plt.plot(batch[allele], train[allele],'k.')\n",
    "        plt.plot(batch[allele], test[allele], color = colors[i],linewidth=line_width,label = label)\n",
    "        plt.plot(batch[allele], test[allele],'k.')\n",
    "    plt.legend(bbox_to_anchor=(1.13, 1),fancybox=True,frameon=True)\n",
    "    \n",
    "    \n",
    "    title = mypath.split('/')[0]\n",
    "    plt.title(title,fontsize=20)\n",
    "    #title = \"activation_lr_iterations/\" + title + '.png'\n",
    "    #plt.savefig(title)\n",
    "    plt.show()"
   ]
  },
  {
   "cell_type": "code",
   "execution_count": 5,
   "metadata": {
    "collapsed": false
   },
   "outputs": [],
   "source": [
    "def epoch_sum(alleles,mypath, epochs):\n",
    "    if (alleles == all):\n",
    "        allele_list = [f for f in listdir(mypath) if isfile(join(mypath,f)) ]\n",
    "    else:\n",
    "        allele_list = alleles\n",
    "    allele_list = set(allele_list).intersection(netMHCPan.keys())\n",
    "    onlyfiles = [mypath+f for f in allele_list]\n",
    "    data = fileopen(onlyfiles, nb_lines)\n",
    "    print sorted(allele_list)\n",
    "    epoch_sum = np.zeros(epochs)\n",
    "    batch = np.arange(0,nb_lines)\n",
    "    for allele in allele_list:\n",
    "        for i in range(0,epochs):\n",
    "            try:\n",
    "                epoch_sum[i] += data[2][allele][i]\n",
    "            except:\n",
    "                pass\n",
    "    epoch_sum = epoch_sum*1.0/len(allele_list)\n",
    "    plt.figure(figsize=(15, 4), dpi=300)\n",
    "    plt.title('Average AUC vs Epoch')\n",
    "    plt.xlabel('Epoch')\n",
    "    plt.ylabel('Average AUC')\n",
    "    plt.xticks(np.arange(0,nb_lines, 1))\n",
    "    plt.yticks(np.arange(0.6, 1, 0.01))\n",
    "    plt.plot(batch,epoch_sum)\n",
    "    plt.plot(batch,epoch_sum,'k.')\n",
    "    plt.show()"
   ]
  },
  {
   "cell_type": "code",
   "execution_count": 31,
   "metadata": {
    "collapsed": false
   },
   "outputs": [],
   "source": [
    "def compare_netMHCpan(alleles,mypath, epoch):\n",
    "    if (alleles == all):\n",
    "        allele_list = [f for f in listdir(mypath) if isfile(join(mypath,f)) ]\n",
    "    else:\n",
    "        allele_list = alleles\n",
    "    onlyfiles = [mypath+f for f in allele_list]  \n",
    "    data = fileopen(onlyfiles,nb_lines)\n",
    "    sumA = 0\n",
    "    sumA_nmp = 0\n",
    "    sumB = 0\n",
    "    sumB_nmp = 0\n",
    "    numA =0\n",
    "    numB= 0\n",
    "    #print sorted(set(allele_list).intersection(netMHCPan.keys()))\n",
    "    for allele in sorted(set(allele_list).intersection(netMHCPan.keys())):\n",
    "        try:\n",
    "            \n",
    "            if(allele[0] == 'A'):\n",
    "                \n",
    "                sumA +=data[2][allele][epoch]\n",
    "                sumA_nmp += netMHCPan[allele]\n",
    "                numA +=1\n",
    "            else:\n",
    "                sumB +=data[2][allele][epoch]\n",
    "                sumB_nmp += netMHCPan[allele]\n",
    "                numB+=1\n",
    "            #print allele, '\\tCurrent Pred: ', '%.3f' % data[2][allele][epoch], '\\tnetMHCpan', '%.3f' % netMHCPan[allele]\n",
    "            \n",
    "        except:\n",
    "            pass\n",
    "    print '\\n',epoch, (sumA+sumB)/(numA + numB), (sumA_nmp+sumB_nmp)/(numA + numB)\n",
    "    print \"A: \",sumA/numA, sumA_nmp/numA \n",
    "    print \"B: \",sumB/numB, sumB_nmp/numB"
   ]
  },
  {
   "cell_type": "markdown",
   "metadata": {},
   "source": [
    "#Comparisons"
   ]
  },
  {
   "cell_type": "code",
   "execution_count": 7,
   "metadata": {
    "collapsed": true
   },
   "outputs": [],
   "source": [
    "###Full Sequence on MHC pred"
   ]
  },
  {
   "cell_type": "code",
   "execution_count": 20,
   "metadata": {
    "collapsed": false
   },
   "outputs": [
    {
     "name": "stdout",
     "output_type": "stream",
     "text": [
      "\n",
      "35 0.761019124438\n",
      "A:  0.797472862927 0.86699\n",
      "B:  0.724565385948 0.82753\n"
     ]
    }
   ],
   "source": [
    "mypath = \"FF_relu_relu_0.01_pseudofull/\"\n",
    "#mypath = \"FF_tanh_tanh_pseudofull/\"\n",
    "alleles = all\n",
    "nb_lines = 64\n",
    "compare_netMHCpan(alleles, mypath, 35)"
   ]
  },
  {
   "cell_type": "code",
   "execution_count": 35,
   "metadata": {
    "collapsed": false,
    "scrolled": false
   },
   "outputs": [
    {
     "name": "stdout",
     "output_type": "stream",
     "text": [
      "\n",
      "9 0.848762910407 0.882291052632\n",
      "A:  0.88227463081 0.895077\n",
      "B:  0.811527665516 0.868084444444\n",
      "\n",
      "27 0.834117061692 0.882291052632\n",
      "A:  0.868502449074 0.895077\n",
      "B:  0.795911075712 0.868084444444\n",
      "\n",
      "38 0.826227818372 0.882291052632\n",
      "A:  0.861277280184 0.895077\n",
      "B:  0.787283971913 0.868084444444\n",
      "\n",
      "48 0.822929790051 0.882291052632\n",
      "A:  0.855922398297 0.895077\n",
      "B:  0.786271336444 0.868084444444\n",
      "\n",
      "55 0.820656622647 0.882291052632\n",
      "A:  0.85411113604 0.895077\n",
      "B:  0.7834849411 0.868084444444\n"
     ]
    }
   ],
   "source": [
    "#mypath = \"FF_relu_relu_0.01_pseudofull/\"\n",
    "mypath = \"FF_tanh_tanh_pseudofull_all/\"\n",
    "mypath = 'test_1/'\n",
    "alleles = all\n",
    "nb_lines = 64\n",
    "for epoch in [9,27,38,48,55]:\n",
    "    compare_netMHCpan(alleles, mypath, epoch)\n",
    "#alleles_plot(mypath, nb_lines, train_show = True, alleles = alleles, y_lower=0.5)"
   ]
  },
  {
   "cell_type": "code",
   "execution_count": 36,
   "metadata": {
    "collapsed": false
   },
   "outputs": [
    {
     "name": "stdout",
     "output_type": "stream",
     "text": [
      "['A0101', 'A0201', 'A0202', 'A0203', 'A0205', 'A0206', 'A0207', 'A0211', 'A0212', 'A0216', 'A0219', 'A0301', 'A1101', 'A2301', 'A2402', 'A2403', 'A2501', 'A2601', 'A2602', 'A2603', 'A2902', 'A3001', 'A3002', 'A3101', 'A3201', 'A3301', 'A6801', 'A6802', 'A6901', 'A8001', 'B0702', 'B0801', 'B0802', 'B0803', 'B1501', 'B1502', 'B1503', 'B1509', 'B1517', 'B1801', 'B2705', 'B3501', 'B3801', 'B3901', 'B4001', 'B4002', 'B4402', 'B4403', 'B4501', 'B4601', 'B4801', 'B5101', 'B5301', 'B5401', 'B5701', 'B5801', 'B7301']\n"
     ]
    },
    {
     "data": {
      "image/png": "[encoded data removed]",
      "text/plain": [
       "<matplotlib.figure.Figure at 0x10fbdcad0>"
      ]
     },
     "metadata": {},
     "output_type": "display_data"
    }
   ],
   "source": [
    "epoch_sum(alleles,mypath,nb_lines)"
   ]
  },
  {
   "cell_type": "code",
   "execution_count": null,
   "metadata": {
    "collapsed": true
   },
   "outputs": [],
   "source": []
  },
  {
   "cell_type": "code",
   "execution_count": null,
   "metadata": {
    "collapsed": true
   },
   "outputs": [],
   "source": []
  }
 ],
 "metadata": {
  "kernelspec": {
   "display_name": "Python 2",
   "language": "python",
   "name": "python2"
  },
  "language_info": {
   "codemirror_mode": {
    "name": "ipython",
    "version": 2
   },
   "file_extension": ".py",
   "mimetype": "text/x-python",
   "name": "python",
   "nbconvert_exporter": "python",
   "pygments_lexer": "ipython2",
   "version": "2.7.10"
  }
 },
 "nbformat": 4,
 "nbformat_minor": 0
}
